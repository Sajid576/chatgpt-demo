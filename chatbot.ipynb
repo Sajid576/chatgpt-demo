{
 "cells": [
  {
   "cell_type": "code",
   "execution_count": 1,
   "metadata": {},
   "outputs": [
    {
     "name": "stdout",
     "output_type": "stream",
     "text": [
      "Collecting openai\n",
      "  Downloading openai-0.27.8-py3-none-any.whl (73 kB)\n",
      "Requirement already satisfied: requests>=2.20 in c:\\users\\heman\\appdata\\roaming\\python\\python310\\site-packages (from openai) (2.28.2)\n",
      "Collecting aiohttp\n",
      "  Downloading aiohttp-3.8.4-cp310-cp310-win_amd64.whl (319 kB)\n",
      "Requirement already satisfied: tqdm in c:\\users\\heman\\appdata\\roaming\\python\\python310\\site-packages (from openai) (4.64.1)\n",
      "Requirement already satisfied: charset-normalizer<4,>=2 in c:\\users\\heman\\appdata\\roaming\\python\\python310\\site-packages (from requests>=2.20->openai) (3.1.0)\n",
      "Requirement already satisfied: urllib3<1.27,>=1.21.1 in c:\\users\\heman\\appdata\\roaming\\python\\python310\\site-packages (from requests>=2.20->openai) (1.26.15)\n",
      "Requirement already satisfied: idna<4,>=2.5 in c:\\users\\heman\\appdata\\roaming\\python\\python310\\site-packages (from requests>=2.20->openai) (3.4)\n",
      "Requirement already satisfied: certifi>=2017.4.17 in c:\\users\\heman\\appdata\\roaming\\python\\python310\\site-packages (from requests>=2.20->openai) (2022.12.7)\n",
      "Collecting async-timeout<5.0,>=4.0.0a3\n",
      "  Downloading async_timeout-4.0.2-py3-none-any.whl (5.8 kB)\n",
      "Collecting yarl<2.0,>=1.0\n",
      "  Downloading yarl-1.9.2-cp310-cp310-win_amd64.whl (61 kB)\n",
      "Requirement already satisfied: attrs>=17.3.0 in c:\\users\\heman\\appdata\\roaming\\python\\python310\\site-packages (from aiohttp->openai) (22.2.0)\n",
      "Collecting multidict<7.0,>=4.5\n",
      "  Downloading multidict-6.0.4-cp310-cp310-win_amd64.whl (28 kB)\n",
      "Collecting aiosignal>=1.1.2\n",
      "  Downloading aiosignal-1.3.1-py3-none-any.whl (7.6 kB)\n",
      "Collecting frozenlist>=1.1.1\n",
      "  Downloading frozenlist-1.3.3-cp310-cp310-win_amd64.whl (33 kB)\n",
      "Requirement already satisfied: colorama in c:\\users\\heman\\appdata\\roaming\\python\\python310\\site-packages (from tqdm->openai) (0.4.6)\n",
      "Installing collected packages: multidict, frozenlist, yarl, async-timeout, aiosignal, aiohttp, openai\n",
      "Successfully installed aiohttp-3.8.4 aiosignal-1.3.1 async-timeout-4.0.2 frozenlist-1.3.3 multidict-6.0.4 openai-0.27.8 yarl-1.9.2\n"
     ]
    },
    {
     "name": "stderr",
     "output_type": "stream",
     "text": [
      "WARNING: You are using pip version 21.2.4; however, version 23.1.2 is available.\n",
      "You should consider upgrading via the 'C:\\Users\\heman\\.pyenv\\pyenv-win\\versions\\3.10.2\\python.exe -m pip install --upgrade pip' command.\n"
     ]
    }
   ],
   "source": [
    "!pip install --upgrade openai"
   ]
  },
  {
   "cell_type": "code",
   "execution_count": 19,
   "metadata": {},
   "outputs": [],
   "source": [
    "import openai\n",
    "\n",
    "# load and set our key\n",
    "openai.api_key = open(\"key.txt\", \"r\").read().strip(\"\\n\")"
   ]
  },
  {
   "cell_type": "code",
   "execution_count": 20,
   "metadata": {},
   "outputs": [],
   "source": [
    "completion = openai.ChatCompletion.create(\n",
    "  model=\"gpt-3.5-turbo\", \n",
    "  messages=[{\"role\": \"user\", \"content\": \"What is the capital of India?\"}]\n",
    ")"
   ]
  },
  {
   "cell_type": "code",
   "execution_count": 21,
   "metadata": {},
   "outputs": [
    {
     "name": "stdout",
     "output_type": "stream",
     "text": [
      "{\n",
      "  \"id\": \"chatcmpl-7Tj3IJsQQbwGSap9KIVO5HcScqEf1\",\n",
      "  \"object\": \"chat.completion\",\n",
      "  \"created\": 1687319048,\n",
      "  \"model\": \"gpt-3.5-turbo-0301\",\n",
      "  \"choices\": [\n",
      "    {\n",
      "      \"index\": 0,\n",
      "      \"message\": {\n",
      "        \"role\": \"assistant\",\n",
      "        \"content\": \"The capital of India is New Delhi.\"\n",
      "      },\n",
      "      \"finish_reason\": \"stop\"\n",
      "    }\n",
      "  ],\n",
      "  \"usage\": {\n",
      "    \"prompt_tokens\": 15,\n",
      "    \"completion_tokens\": 8,\n",
      "    \"total_tokens\": 23\n",
      "  }\n",
      "}\n"
     ]
    }
   ],
   "source": [
    "print(completion)"
   ]
  },
  {
   "cell_type": "code",
   "execution_count": 22,
   "metadata": {},
   "outputs": [
    {
     "name": "stdout",
     "output_type": "stream",
     "text": [
      "The capital of India is New Delhi.\n"
     ]
    }
   ],
   "source": [
    "reply_content = completion.choices[0].message.content\n",
    "print(reply_content)"
   ]
  },
  {
   "cell_type": "code",
   "execution_count": 23,
   "metadata": {},
   "outputs": [
    {
     "name": "stdout",
     "output_type": "stream",
     "text": [
      "User's input was:  India's captial?\n"
     ]
    }
   ],
   "source": [
    "message_history = []\n",
    "user_input = input(\"> \")\n",
    "print(\"User's input was: \", user_input)"
   ]
  },
  {
   "cell_type": "code",
   "execution_count": 24,
   "metadata": {},
   "outputs": [],
   "source": [
    "message_history.append({\"role\": \"user\", \"content\": f\"{user_input}\"})"
   ]
  },
  {
   "cell_type": "code",
   "execution_count": 25,
   "metadata": {},
   "outputs": [
    {
     "name": "stdout",
     "output_type": "stream",
     "text": [
      "New Delhi\n"
     ]
    }
   ],
   "source": [
    "completion = openai.ChatCompletion.create(\n",
    "  model=\"gpt-3.5-turbo\",\n",
    "  messages=message_history\n",
    ")\n",
    "\n",
    "# Now we can print the response:\n",
    "reply_content = completion.choices[0].message.content\n",
    "print(reply_content)"
   ]
  },
  {
   "cell_type": "code",
   "execution_count": 26,
   "metadata": {},
   "outputs": [],
   "source": [
    "message_history.append({\"role\": \"assistant\", \"content\": f\"{reply_content}\"})"
   ]
  },
  {
   "cell_type": "code",
   "execution_count": 27,
   "metadata": {},
   "outputs": [
    {
     "name": "stdout",
     "output_type": "stream",
     "text": [
      "User's input was:  4 times 6\n",
      "\n",
      "4 times 6 is equal to 24.\n"
     ]
    }
   ],
   "source": [
    "user_input = input(\"> \")\n",
    "print(\"User's input was: \", user_input)\n",
    "print()\n",
    "message_history.append({\"role\": \"user\", \"content\": f\"{user_input}\"})\n",
    "\n",
    "completion = openai.ChatCompletion.create(\n",
    "    model=\"gpt-3.5-turbo\",\n",
    "    messages=message_history\n",
    ")\n",
    "\n",
    "reply_content = completion.choices[0].message.content\n",
    "print(reply_content)"
   ]
  },
  {
   "cell_type": "code",
   "execution_count": 28,
   "metadata": {},
   "outputs": [
    {
     "name": "stdout",
     "output_type": "stream",
     "text": [
      "User's input was:  Portugal's capital\n",
      "Lisbon\n",
      "\n",
      "User's input was:  Fishes are found where?\n",
      "Fishes are found in different bodies of water such as oceans, seas, lakes, rivers, and streams all around the world. They inhabit a wide range of aquatic habitats, from shallow, warm waters to deep, cold depths.\n",
      "\n"
     ]
    }
   ],
   "source": [
    "message_history = []\n",
    "\n",
    "def chat(inp, role=\"user\"):\n",
    "    message_history.append({\"role\": role, \"content\": f\"{inp}\"})\n",
    "    completion = openai.ChatCompletion.create(\n",
    "        model=\"gpt-3.5-turbo\",\n",
    "        messages=message_history\n",
    "    )\n",
    "    reply_content = completion.choices[0].message.content\n",
    "    message_history.append({\"role\": \"assistant\", \"content\": f\"{reply_content}\"})\n",
    "    return reply_content\n",
    "\n",
    "for i in range(2):\n",
    "    user_input = input(\"> \")\n",
    "    print(\"User's input was: \", user_input)\n",
    "    print(chat(user_input))\n",
    "    print()"
   ]
  },
  {
   "cell_type": "code",
   "execution_count": 11,
   "metadata": {},
   "outputs": [
    {
     "name": "stdout",
     "output_type": "stream",
     "text": [
      "Collecting gradio\n",
      "  Downloading gradio-3.35.2-py3-none-any.whl (19.7 MB)\n",
      "Collecting python-multipart\n",
      "  Downloading python_multipart-0.0.6-py3-none-any.whl (45 kB)\n",
      "Collecting websockets>=10.0\n",
      "  Downloading websockets-11.0.3-cp310-cp310-win_amd64.whl (124 kB)\n",
      "Requirement already satisfied: jinja2 in c:\\users\\heman\\appdata\\roaming\\python\\python310\\site-packages (from gradio) (3.1.2)\n",
      "Requirement already satisfied: pandas in c:\\users\\heman\\appdata\\roaming\\python\\python310\\site-packages (from gradio) (1.5.3)\n",
      "Requirement already satisfied: numpy in c:\\users\\heman\\appdata\\roaming\\python\\python310\\site-packages (from gradio) (1.23.5)\n",
      "Collecting ffmpy\n",
      "  Downloading ffmpy-0.3.0.tar.gz (4.8 kB)\n",
      "Collecting uvicorn>=0.14.0\n",
      "  Downloading uvicorn-0.22.0-py3-none-any.whl (58 kB)\n",
      "Requirement already satisfied: matplotlib in c:\\users\\heman\\appdata\\roaming\\python\\python310\\site-packages (from gradio) (3.6.3)\n",
      "Requirement already satisfied: aiohttp in c:\\users\\heman\\.pyenv\\pyenv-win\\versions\\3.10.2\\lib\\site-packages (from gradio) (3.8.4)\n",
      "Requirement already satisfied: pydantic in c:\\users\\heman\\appdata\\roaming\\python\\python310\\site-packages (from gradio) (1.10.6)\n",
      "Collecting pydub\n",
      "  Downloading pydub-0.25.1-py2.py3-none-any.whl (32 kB)\n",
      "Collecting httpx\n",
      "  Downloading httpx-0.24.1-py3-none-any.whl (75 kB)\n",
      "Collecting mdit-py-plugins<=0.3.3\n",
      "  Downloading mdit_py_plugins-0.3.3-py3-none-any.whl (50 kB)\n",
      "Collecting huggingface-hub>=0.14.0\n",
      "  Downloading huggingface_hub-0.15.1-py3-none-any.whl (236 kB)\n",
      "Collecting aiofiles\n",
      "  Downloading aiofiles-23.1.0-py3-none-any.whl (14 kB)\n",
      "Requirement already satisfied: pillow in c:\\users\\heman\\appdata\\roaming\\python\\python310\\site-packages (from gradio) (9.4.0)\n",
      "Collecting altair>=4.2.0\n",
      "  Downloading altair-5.0.1-py3-none-any.whl (471 kB)\n",
      "Collecting markdown-it-py[linkify]>=2.0.0\n",
      "  Downloading markdown_it_py-3.0.0-py3-none-any.whl (87 kB)\n",
      "Collecting semantic-version\n",
      "  Downloading semantic_version-2.10.0-py2.py3-none-any.whl (15 kB)\n",
      "Requirement already satisfied: orjson in c:\\users\\heman\\appdata\\roaming\\python\\python310\\site-packages (from gradio) (3.8.8)\n",
      "Requirement already satisfied: pyyaml in c:\\users\\heman\\appdata\\roaming\\python\\python310\\site-packages (from gradio) (6.0)\n",
      "Requirement already satisfied: markupsafe in c:\\users\\heman\\appdata\\roaming\\python\\python310\\site-packages (from gradio) (2.1.2)\n",
      "Collecting gradio-client>=0.2.7\n",
      "  Downloading gradio_client-0.2.7-py3-none-any.whl (288 kB)\n",
      "Requirement already satisfied: requests in c:\\users\\heman\\appdata\\roaming\\python\\python310\\site-packages (from gradio) (2.28.2)\n",
      "Collecting fastapi\n",
      "  Downloading fastapi-0.97.0-py3-none-any.whl (56 kB)\n",
      "Requirement already satisfied: pygments>=2.12.0 in c:\\users\\heman\\appdata\\roaming\\python\\python310\\site-packages (from gradio) (2.14.0)\n",
      "Requirement already satisfied: typing-extensions>=4.0.1 in c:\\users\\heman\\appdata\\roaming\\python\\python310\\site-packages (from altair>=4.2.0->gradio) (4.5.0)\n",
      "Requirement already satisfied: jsonschema>=3.0 in c:\\users\\heman\\appdata\\roaming\\python\\python310\\site-packages (from altair>=4.2.0->gradio) (4.18.0a2)\n",
      "Collecting toolz\n",
      "  Using cached toolz-0.12.0-py3-none-any.whl (55 kB)\n",
      "Collecting fsspec\n",
      "  Downloading fsspec-2023.6.0-py3-none-any.whl (163 kB)\n",
      "Requirement already satisfied: packaging in c:\\users\\heman\\appdata\\roaming\\python\\python310\\site-packages (from gradio-client>=0.2.7->gradio) (23.0)\n",
      "Collecting filelock\n",
      "  Downloading filelock-3.12.2-py3-none-any.whl (10 kB)\n",
      "Requirement already satisfied: tqdm>=4.42.1 in c:\\users\\heman\\appdata\\roaming\\python\\python310\\site-packages (from huggingface-hub>=0.14.0->gradio) (4.64.1)\n",
      "Requirement already satisfied: jsonschema-specifications>=2023.03.5 in c:\\users\\heman\\appdata\\roaming\\python\\python310\\site-packages (from jsonschema>=3.0->altair>=4.2.0->gradio) (2023.3.6)\n",
      "Requirement already satisfied: rpds-py>=0.7.0 in c:\\users\\heman\\appdata\\roaming\\python\\python310\\site-packages (from jsonschema>=3.0->altair>=4.2.0->gradio) (0.7.1)\n",
      "Requirement already satisfied: attrs>=22.2.0 in c:\\users\\heman\\appdata\\roaming\\python\\python310\\site-packages (from jsonschema>=3.0->altair>=4.2.0->gradio) (22.2.0)\n",
      "Requirement already satisfied: referencing>=0.25.0 in c:\\users\\heman\\appdata\\roaming\\python\\python310\\site-packages (from jsonschema>=3.0->altair>=4.2.0->gradio) (0.25.2)\n",
      "Collecting mdurl~=0.1\n",
      "  Downloading mdurl-0.1.2-py3-none-any.whl (10.0 kB)\n",
      "Collecting linkify-it-py<3,>=1\n",
      "  Downloading linkify_it_py-2.0.2-py3-none-any.whl (19 kB)\n",
      "Collecting uc-micro-py\n",
      "  Downloading uc_micro_py-1.0.2-py3-none-any.whl (6.2 kB)\n",
      "Collecting mdit-py-plugins<=0.3.3\n",
      "  Downloading mdit_py_plugins-0.3.2-py3-none-any.whl (50 kB)\n",
      "  Downloading mdit_py_plugins-0.3.1-py3-none-any.whl (46 kB)\n",
      "  Downloading mdit_py_plugins-0.3.0-py3-none-any.whl (43 kB)\n",
      "  Downloading mdit_py_plugins-0.2.8-py3-none-any.whl (41 kB)\n",
      "  Downloading mdit_py_plugins-0.2.7-py3-none-any.whl (41 kB)\n",
      "  Downloading mdit_py_plugins-0.2.6-py3-none-any.whl (39 kB)\n",
      "  Downloading mdit_py_plugins-0.2.5-py3-none-any.whl (39 kB)\n",
      "  Downloading mdit_py_plugins-0.2.4-py3-none-any.whl (39 kB)\n",
      "  Downloading mdit_py_plugins-0.2.3-py3-none-any.whl (39 kB)\n",
      "  Downloading mdit_py_plugins-0.2.2-py3-none-any.whl (39 kB)\n",
      "  Downloading mdit_py_plugins-0.2.1-py3-none-any.whl (38 kB)\n",
      "  Downloading mdit_py_plugins-0.2.0-py3-none-any.whl (38 kB)\n",
      "  Downloading mdit_py_plugins-0.1.0-py3-none-any.whl (37 kB)\n",
      "INFO: pip is looking at multiple versions of linkify-it-py to determine which version is compatible with other requirements. This could take a while.\n",
      "Collecting linkify-it-py<3,>=1\n",
      "  Downloading linkify_it_py-2.0.1-py3-none-any.whl (19 kB)\n",
      "  Downloading linkify_it_py-2.0.0-py3-none-any.whl (19 kB)\n",
      "  Downloading linkify_it_py-1.0.3-py3-none-any.whl (19 kB)\n",
      "  Downloading linkify_it_py-1.0.2-py3-none-any.whl (19 kB)\n",
      "  Downloading linkify_it_py-1.0.1-py3-none-any.whl (19 kB)\n",
      "  Downloading linkify_it_py-1.0.0-py3-none-any.whl (19 kB)\n",
      "INFO: pip is looking at multiple versions of markdown-it-py[linkify] to determine which version is compatible with other requirements. This could take a while.\n",
      "Collecting markdown-it-py[linkify]>=2.0.0\n",
      "  Downloading markdown_it_py-2.2.0-py3-none-any.whl (84 kB)\n",
      "Requirement already satisfied: python-dateutil>=2.8.1 in c:\\users\\heman\\appdata\\roaming\\python\\python310\\site-packages (from pandas->gradio) (2.8.2)\n",
      "Requirement already satisfied: pytz>=2020.1 in c:\\users\\heman\\appdata\\roaming\\python\\python310\\site-packages (from pandas->gradio) (2022.7.1)\n",
      "Requirement already satisfied: six>=1.5 in c:\\users\\heman\\appdata\\roaming\\python\\python310\\site-packages (from python-dateutil>=2.8.1->pandas->gradio) (1.16.0)\n",
      "Requirement already satisfied: colorama in c:\\users\\heman\\appdata\\roaming\\python\\python310\\site-packages (from tqdm>=4.42.1->huggingface-hub>=0.14.0->gradio) (0.4.6)\n",
      "Requirement already satisfied: click>=7.0 in c:\\users\\heman\\appdata\\roaming\\python\\python310\\site-packages (from uvicorn>=0.14.0->gradio) (8.1.3)\n",
      "Collecting h11>=0.8\n",
      "  Downloading h11-0.14.0-py3-none-any.whl (58 kB)\n",
      "Requirement already satisfied: aiosignal>=1.1.2 in c:\\users\\heman\\.pyenv\\pyenv-win\\versions\\3.10.2\\lib\\site-packages (from aiohttp->gradio) (1.3.1)\n",
      "Requirement already satisfied: yarl<2.0,>=1.0 in c:\\users\\heman\\.pyenv\\pyenv-win\\versions\\3.10.2\\lib\\site-packages (from aiohttp->gradio) (1.9.2)\n",
      "Requirement already satisfied: charset-normalizer<4.0,>=2.0 in c:\\users\\heman\\appdata\\roaming\\python\\python310\\site-packages (from aiohttp->gradio) (3.1.0)\n",
      "Requirement already satisfied: frozenlist>=1.1.1 in c:\\users\\heman\\.pyenv\\pyenv-win\\versions\\3.10.2\\lib\\site-packages (from aiohttp->gradio) (1.3.3)\n",
      "Requirement already satisfied: multidict<7.0,>=4.5 in c:\\users\\heman\\.pyenv\\pyenv-win\\versions\\3.10.2\\lib\\site-packages (from aiohttp->gradio) (6.0.4)\n",
      "Requirement already satisfied: async-timeout<5.0,>=4.0.0a3 in c:\\users\\heman\\.pyenv\\pyenv-win\\versions\\3.10.2\\lib\\site-packages (from aiohttp->gradio) (4.0.2)\n",
      "Requirement already satisfied: idna>=2.0 in c:\\users\\heman\\appdata\\roaming\\python\\python310\\site-packages (from yarl<2.0,>=1.0->aiohttp->gradio) (3.4)\n",
      "Collecting starlette<0.28.0,>=0.27.0\n",
      "  Downloading starlette-0.27.0-py3-none-any.whl (66 kB)\n",
      "Collecting anyio<5,>=3.4.0\n",
      "  Downloading anyio-3.7.0-py3-none-any.whl (80 kB)\n",
      "Collecting exceptiongroup\n",
      "  Downloading exceptiongroup-1.1.1-py3-none-any.whl (14 kB)\n",
      "Collecting sniffio>=1.1\n",
      "  Downloading sniffio-1.3.0-py3-none-any.whl (10 kB)\n",
      "Requirement already satisfied: certifi in c:\\users\\heman\\appdata\\roaming\\python\\python310\\site-packages (from httpx->gradio) (2022.12.7)\n",
      "Collecting httpcore<0.18.0,>=0.15.0\n",
      "  Downloading httpcore-0.17.2-py3-none-any.whl (72 kB)\n",
      "Requirement already satisfied: pyparsing>=2.2.1 in c:\\users\\heman\\appdata\\roaming\\python\\python310\\site-packages (from matplotlib->gradio) (3.1.0a1)\n",
      "Requirement already satisfied: cycler>=0.10 in c:\\users\\heman\\appdata\\roaming\\python\\python310\\site-packages (from matplotlib->gradio) (0.11.0)\n",
      "Requirement already satisfied: contourpy>=1.0.1 in c:\\users\\heman\\appdata\\roaming\\python\\python310\\site-packages (from matplotlib->gradio) (1.0.7)\n",
      "Requirement already satisfied: fonttools>=4.22.0 in c:\\users\\heman\\appdata\\roaming\\python\\python310\\site-packages (from matplotlib->gradio) (4.39.2)\n",
      "Requirement already satisfied: kiwisolver>=1.0.1 in c:\\users\\heman\\appdata\\roaming\\python\\python310\\site-packages (from matplotlib->gradio) (1.4.4)\n",
      "Requirement already satisfied: urllib3<1.27,>=1.21.1 in c:\\users\\heman\\appdata\\roaming\\python\\python310\\site-packages (from requests->gradio) (1.26.15)\n",
      "Building wheels for collected packages: ffmpy\n",
      "  Building wheel for ffmpy (setup.py): started\n",
      "  Building wheel for ffmpy (setup.py): finished with status 'done'\n",
      "  Created wheel for ffmpy: filename=ffmpy-0.3.0-py3-none-any.whl size=4714 sha256=819e9ec877c55481b6edc38db23fd245e7a156ad4c17d756dfa54a91df472db3\n",
      "  Stored in directory: c:\\users\\heman\\appdata\\local\\pip\\cache\\wheels\\0c\\c2\\0e\\3b9c6845c6a4e35beb90910cc70d9ac9ab5d47402bd62af0df\n",
      "Successfully built ffmpy\n",
      "Installing collected packages: sniffio, exceptiongroup, h11, anyio, uc-micro-py, mdurl, httpcore, fsspec, filelock, websockets, toolz, starlette, markdown-it-py, linkify-it-py, huggingface-hub, httpx, uvicorn, semantic-version, python-multipart, pydub, mdit-py-plugins, gradio-client, ffmpy, fastapi, altair, aiofiles, gradio\n",
      "Successfully installed aiofiles-23.1.0 altair-5.0.1 anyio-3.7.0 exceptiongroup-1.1.1 fastapi-0.97.0 ffmpy-0.3.0 filelock-3.12.2 fsspec-2023.6.0 gradio-3.35.2 gradio-client-0.2.7 h11-0.14.0 httpcore-0.17.2 httpx-0.24.1 huggingface-hub-0.15.1 linkify-it-py-2.0.2 markdown-it-py-2.2.0 mdit-py-plugins-0.3.3 mdurl-0.1.2 pydub-0.25.1 python-multipart-0.0.6 semantic-version-2.10.0 sniffio-1.3.0 starlette-0.27.0 toolz-0.12.0 uc-micro-py-1.0.2 uvicorn-0.22.0 websockets-11.0.3\n"
     ]
    },
    {
     "name": "stderr",
     "output_type": "stream",
     "text": [
      "WARNING: You are using pip version 21.2.4; however, version 23.1.2 is available.\n",
      "You should consider upgrading via the 'C:\\Users\\heman\\.pyenv\\pyenv-win\\versions\\3.10.2\\python.exe -m pip install --upgrade pip' command.\n"
     ]
    }
   ],
   "source": [
    "!pip install gradio"
   ]
  },
  {
   "cell_type": "code",
   "execution_count": 29,
   "metadata": {},
   "outputs": [],
   "source": [
    "import gradio as gr\n",
    "import openai\n",
    "\n",
    "openai.api_key = open(\"key.txt\", \"r\").read().strip(\"\\n\")"
   ]
  },
  {
   "cell_type": "code",
   "execution_count": 30,
   "metadata": {},
   "outputs": [],
   "source": [
    "message_history = [{\"role\": \"user\", \"content\": f\"You are a personal assistant with the name Anna. You are a female health and help assistant. Reply as an female AI to the questions asked to you. When asked about Create a recipe, you have to create a recipe! If you understand, reply with OK.\"},\n",
    "                   {\"role\": \"assistant\", \"content\": f\"OK\"}]"
   ]
  },
  {
   "cell_type": "code",
   "execution_count": 31,
   "metadata": {},
   "outputs": [],
   "source": [
    "def predict(input):\n",
    "\n",
    "    message_history.append({\"role\": \"user\", \"content\": f\"{input}\"})\n",
    "\n",
    "    completion = openai.ChatCompletion.create(\n",
    "      model=\"gpt-3.5-turbo\",\n",
    "      messages=message_history\n",
    "    )\n",
    "    #Just the reply text\n",
    "    reply_content = completion.choices[0].message.content\n",
    "    \n",
    "    message_history.append({\"role\": \"assistant\", \"content\": f\"{reply_content}\"}) \n",
    "    \n",
    "\n",
    "    response = [(message_history[i][\"content\"], message_history[i+1][\"content\"]) for i in range(2, len(message_history)-1, 2)]  # convert to tuples of list\n",
    "    return response"
   ]
  },
  {
   "cell_type": "code",
   "execution_count": 32,
   "metadata": {},
   "outputs": [
    {
     "name": "stderr",
     "output_type": "stream",
     "text": [
      "c:\\Users\\heman\\.pyenv\\pyenv-win\\versions\\3.10.2\\lib\\site-packages\\gradio\\components\\textbox.py:259: UserWarning: The `style` method is deprecated. Please set these arguments in the constructor instead.\n",
      "  warnings.warn(\n"
     ]
    },
    {
     "name": "stdout",
     "output_type": "stream",
     "text": [
      "Running on local URL:  http://127.0.0.1:7863\n",
      "\n",
      "To create a public link, set `share=True` in `launch()`.\n"
     ]
    },
    {
     "data": {
      "text/html": [
       "<div><iframe src=\"http://127.0.0.1:7863/\" width=\"100%\" height=\"500\" allow=\"autoplay; camera; microphone; clipboard-read; clipboard-write;\" frameborder=\"0\" allowfullscreen></iframe></div>"
      ],
      "text/plain": [
       "<IPython.core.display.HTML object>"
      ]
     },
     "metadata": {},
     "output_type": "display_data"
    },
    {
     "data": {
      "text/plain": []
     },
     "execution_count": 32,
     "metadata": {},
     "output_type": "execute_result"
    }
   ],
   "source": [
    "with gr.Blocks() as demo: \n",
    "    chatbot = gr.Chatbot() \n",
    "    with gr.Row(): \n",
    "        \n",
    "        txt = gr.Textbox(show_label=False, placeholder=\"Enter text and press enter\").style(container=False)\n",
    "\n",
    "    txt.submit(predict, txt, chatbot) \n",
    "    txt.submit(None, None, txt, _js=\"() => {''}\") \n",
    "\n",
    "demo.launch()"
   ]
  },
  {
   "cell_type": "code",
   "execution_count": null,
   "metadata": {},
   "outputs": [],
   "source": []
  }
 ],
 "metadata": {
  "kernelspec": {
   "display_name": "Python 3",
   "language": "python",
   "name": "python3"
  },
  "language_info": {
   "codemirror_mode": {
    "name": "ipython",
    "version": 3
   },
   "file_extension": ".py",
   "mimetype": "text/x-python",
   "name": "python",
   "nbconvert_exporter": "python",
   "pygments_lexer": "ipython3",
   "version": "3.10.2"
  },
  "orig_nbformat": 4
 },
 "nbformat": 4,
 "nbformat_minor": 2
}
